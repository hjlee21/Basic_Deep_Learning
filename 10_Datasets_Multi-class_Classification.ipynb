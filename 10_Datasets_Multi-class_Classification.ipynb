{
 "cells": [
  {
   "cell_type": "markdown",
   "id": "6e8b9dc6-288f-4b4e-bc01-016866195d7e",
   "metadata": {},
   "source": [
    "# Dataset for Multi-class Classification"
   ]
  },
  {
   "cell_type": "code",
   "execution_count": 1,
   "id": "90722cd8-fa3f-409c-890c-486196dd00e6",
   "metadata": {},
   "outputs": [
    {
     "name": "stdout",
     "output_type": "stream",
     "text": [
      "========= for 0 =========\n",
      "tf.Tensor([ 8.506573 13.091244], shape=(2,), dtype=float32)\n",
      "(30, 2) (30, 1)\n",
      "(30, 1)\n",
      "========= for 1 =========\n",
      "tf.Tensor([-2.3443012  2.7485561], shape=(2,), dtype=float32)\n",
      "(30, 2) (30, 1)\n",
      "(30, 1)\n",
      "========= for 2 =========\n",
      "tf.Tensor([-5.5538673 -8.338043 ], shape=(2,), dtype=float32)\n",
      "(30, 2) (30, 1)\n",
      "(30, 1)\n",
      "========= for 3 =========\n",
      "tf.Tensor([-5.6910324  7.0048428], shape=(2,), dtype=float32)\n",
      "(30, 2) (30, 1)\n",
      "(30, 1)\n",
      "========= for 4 =========\n",
      "tf.Tensor([-1.9774284 13.206739 ], shape=(2,), dtype=float32)\n",
      "(30, 2) (30, 1)\n",
      "(30, 1)\n"
     ]
    },
    {
     "data": {
      "image/png": "[encoded data removed]",
      "text/plain": [
       "<Figure size 360x360 with 1 Axes>"
      ]
     },
     "metadata": {
      "needs_background": "light"
     },
     "output_type": "display_data"
    }
   ],
   "source": [
    "import tensorflow as tf\n",
    "import matplotlib.pyplot as plt\n",
    "\n",
    "plt.style.use('seaborn')\n",
    "\n",
    "# N: Minibatch, x의 갯수: 2\n",
    "N, n_feature = 30, 2\n",
    "n_class = 5\n",
    "\n",
    "X = tf.zeros(shape=(0, n_feature))\n",
    "Y = tf.zeros(shape=(0, 10), dtype=tf.int32)\n",
    "\n",
    "fig, ax = plt.subplots(figsize=(5,5))\n",
    "\n",
    "\n",
    "\n",
    "for class_idx in range(n_class):\n",
    "    print(f\"========= for {class_idx} =========\")\n",
    "    \n",
    "    center = tf.random.uniform(minval=-15, maxval=15, shape=(2,)) \n",
    "    #x,y 좌표 두개를 만들기 위해서 shape=(2,)써준것.\n",
    "    print(center)\n",
    "    \n",
    "    #ax.scatter(center[0],center[1])\n",
    "    #center의 값이 [0]과 [1]값이 있으니까\n",
    "    \n",
    "    # x1, x2값을 만들어보자\n",
    "    #center 포인트에서 random distribution으로 데이터를 만들어보고자 함\n",
    "    #한 클래스(n_class=5)당 30개(N)가 만들어지는 거기 때문에 전체 데이터셋은 150개가 만들어짐\n",
    "    x1 = center[0] + tf.random.normal(shape=(N,1))    \n",
    "    x2 = center[1] + tf.random.normal(shape=(N,1))\n",
    "    \n",
    "    ax.scatter(x1.numpy(), x2.numpy())\n",
    "    \n",
    "    #x1, x2값을 합쳐보자 왜냐하면 우리가 원하는건 데이터셋 그 자체니깐\n",
    "    x = tf.concat((x1, x2), axis=1)\n",
    "    y = class_idx * tf.ones(shape=(N,1), dtype=tf.int32)\n",
    "    print(x.shape, y.shape)\n",
    "    print(y.shape)\n",
    "    \n",
    "    "
   ]
  },
  {
   "cell_type": "code",
   "execution_count": null,
   "id": "05817cd7-f372-4ba0-ab28-7f98593ac0a7",
   "metadata": {},
   "outputs": [],
   "source": []
  },
  {
   "cell_type": "code",
   "execution_count": null,
   "id": "ee71be53-6f4b-45dd-be85-faa5166bd0db",
   "metadata": {},
   "outputs": [],
   "source": []
  },
  {
   "cell_type": "code",
   "execution_count": null,
   "id": "9a2d86a2-e799-4943-8b06-4c6f3a054815",
   "metadata": {},
   "outputs": [],
   "source": []
  },
  {
   "cell_type": "markdown",
   "id": "812a20c5-7a49-4fd0-bdf7-5296037b89c8",
   "metadata": {},
   "source": [
    "# Dataset Objects"
   ]
  },
  {
   "cell_type": "code",
   "execution_count": null,
   "id": "668c81ec-2510-45a0-9c2c-492bf5dc1057",
   "metadata": {},
   "outputs": [],
   "source": []
  },
  {
   "cell_type": "code",
   "execution_count": null,
   "id": "e0bc5a0f-9db5-4c26-bd6a-05f5ce3b5c0d",
   "metadata": {},
   "outputs": [],
   "source": []
  },
  {
   "cell_type": "code",
   "execution_count": null,
   "id": "7f003faa-054b-49b6-9c39-6f36a11a1e35",
   "metadata": {},
   "outputs": [],
   "source": []
  },
  {
   "cell_type": "code",
   "execution_count": null,
   "id": "d0014a4a-01db-4d49-bc63-9024b8a3c5b1",
   "metadata": {},
   "outputs": [],
   "source": []
  }
 ],
 "metadata": {
  "kernelspec": {
   "display_name": "Python 3.9.12 64-bit",
   "language": "python",
   "name": "python3"
  },
  "language_info": {
   "codemirror_mode": {
    "name": "ipython",
    "version": 3
   },
   "file_extension": ".py",
   "mimetype": "text/x-python",
   "name": "python",
   "nbconvert_exporter": "python",
   "pygments_lexer": "ipython3",
   "version": "3.9.12"
  },
  "vscode": {
   "interpreter": {
    "hash": "56a8ed90a94e1381940930c13263893b39870ef8f2c596d830c78dc56de5a827"
   }
  }
 },
 "nbformat": 4,
 "nbformat_minor": 5
}
