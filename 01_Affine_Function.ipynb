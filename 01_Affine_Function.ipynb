{
 "cells": [
  {
   "cell_type": "markdown",
   "id": "274c0e74-5690-4ae5-bddf-f85adf4c80a8",
   "metadata": {},
   "source": [
    "# Affine Functions with 1 Feature"
   ]
  },
  {
   "cell_type": "markdown",
   "id": "d6017f38-ea93-4535-a006-c12595c9b731",
   "metadata": {},
   "source": [
    "## import tensorflow and a layer"
   ]
  },
  {
   "cell_type": "code",
   "execution_count": 1,
   "id": "6912b439-cb7b-4795-a3af-9f578f0120b1",
   "metadata": {},
   "outputs": [],
   "source": [
    "import tensorflow as tf\n",
    "from tensorflow.keras.layers import Dense"
   ]
  },
  {
   "cell_type": "markdown",
   "id": "c7cca74d-ef92-45fe-9d93-2c28cf329f61",
   "metadata": {},
   "source": [
    "affine function이나 artificial neutron은 layer 단위에서 구현되기 때문에 Dense layer를 불러옴"
   ]
  },
  {
   "cell_type": "markdown",
   "id": "c79bf1d8-7f98-41a8-9833-37d9c8c3bd1a",
   "metadata": {},
   "source": [
    "## input setting"
   ]
  },
  {
   "cell_type": "code",
   "execution_count": 2,
   "id": "bd64e266-be7c-436f-8e65-5525b7d600a3",
   "metadata": {},
   "outputs": [
    {
     "name": "stdout",
     "output_type": "stream",
     "text": [
      "(1, 1)\n",
      "tf.Tensor([[10.]], shape=(1, 1), dtype=float32)\n"
     ]
    }
   ],
   "source": [
    "x= tf.constant([[10.]]) #input setting\n",
    "print(x.shape)\n",
    "print(x)"
   ]
  },
  {
   "cell_type": "markdown",
   "id": "341df659-07a6-4f06-abd3-9e591badd729",
   "metadata": {},
   "source": [
    "## affine function generation"
   ]
  },
  {
   "cell_type": "code",
   "execution_count": 3,
   "id": "1ea9d04b-931f-43bb-b230-ebb15a4eaa07",
   "metadata": {},
   "outputs": [
    {
     "name": "stdout",
     "output_type": "stream",
     "text": [
      "tf.Tensor([[-15.44279]], shape=(1, 1), dtype=float32)\n"
     ]
    }
   ],
   "source": [
    "dense = Dense(units=1) #import an affine function\n",
    "dense1 = Dense(units=1, activation='relu') #import an affine and activation function\n",
    "\n",
    "y_tf = dense(x) #forward propagation + parameter initialization\n",
    "print(y_tf)"
   ]
  },
  {
   "cell_type": "markdown",
   "id": "bdedef12-fb7a-420d-b8cd-6883f8dc0123",
   "metadata": {},
   "source": [
    "- dense 는 keras 에서 제공하는 Dense layer를 이용하여 하나의 affine function 을 만들었다\n",
    "- x 값을 통과시켜 y_tf 값이 나온다\n",
    "\n",
    "다시 말해서 dense 안에는 w, b가 들어있고, 위의 식은 'Z=X x W+ b'를 나타내는 식이다"
   ]
  },
  {
   "cell_type": "markdown",
   "id": "938e40d4-48f7-4859-ac87-f33f44e41a61",
   "metadata": {},
   "source": [
    "## weight and bias"
   ]
  },
  {
   "cell_type": "code",
   "execution_count": 6,
   "id": "bee71a32-2a65-4a25-96af-3c2121704e0c",
   "metadata": {},
   "outputs": [
    {
     "name": "stdout",
     "output_type": "stream",
     "text": [
      "[[-1.544279]] [0.]\n"
     ]
    }
   ],
   "source": [
    "w, b = dense.get_weights() #get weight, bias\n",
    "print(w,b)"
   ]
  },
  {
   "cell_type": "markdown",
   "id": "f727066a-faa9-4223-9e5f-4b93de0baf36",
   "metadata": {},
   "source": [
    "## tensorflow계산과 manual로 계산한 값을 비교해보자"
   ]
  },
  {
   "cell_type": "code",
   "execution_count": 13,
   "id": "7184c0fb-7dee-4690-8f7c-d624ecc62cf1",
   "metadata": {},
   "outputs": [
    {
     "name": "stdout",
     "output_type": "stream",
     "text": [
      "tf.Tensor([[-4.277917]], shape=(1, 1), dtype=float32)\n"
     ]
    }
   ],
   "source": [
    "y_manual = tf.linalg.matmul(x, w) + b\n",
    "# x 는 matrix의 형태이기 때문에 matrix multiplication 식을 사용하여 x*w를 계산하고 b를 더한다\n",
    "\n",
    "print(y_manual)"
   ]
  },
  {
   "cell_type": "markdown",
   "id": "b591afc4-a4da-477e-bead-67383737dda8",
   "metadata": {},
   "source": [
    "## Parameter Initialization"
   ]
  },
  {
   "cell_type": "code",
   "execution_count": 7,
   "id": "00ae312d-df32-4405-933f-7a2a8b3d54e8",
   "metadata": {},
   "outputs": [],
   "source": [
    "import tensorflow as tf\n",
    "from tensorflow.keras.layers import Dense\n",
    "from tensorflow.keras.initializers import Constant\n",
    "# 내가 원하는 값으로 (여기서는 Constant를 사용해서) initialization을 해주겠다는 뜻 \n",
    "\n",
    "x= tf.constant([[10.]]) #input setting"
   ]
  },
  {
   "cell_type": "code",
   "execution_count": 8,
   "id": "d016c5f5-69a1-4933-8e02-bef4849ba19e",
   "metadata": {},
   "outputs": [
    {
     "name": "stdout",
     "output_type": "stream",
     "text": [
      "tf.Tensor(10.0, shape=(), dtype=float32) tf.Tensor(20.0, shape=(), dtype=float32)\n",
      "<keras.initializers.initializers_v2.Constant object at 0x000001F60A3F34F0> <keras.initializers.initializers_v2.Constant object at 0x000001F638D69880>\n"
     ]
    }
   ],
   "source": [
    "# weight/bias setting\n",
    "w, b = tf.constant(10.), tf.constant(20.)\n",
    "print(w, b)\n",
    "\n",
    "w_init, b_init = Constant(w), Constant(b)\n",
    "#여기서 'Constant' = 'tf.keras.initializers.Constant()'\n",
    "print(w_init, b_init)"
   ]
  },
  {
   "cell_type": "code",
   "execution_count": 9,
   "id": "1303a482-67d5-402f-a23b-a5f1a394e0cf",
   "metadata": {},
   "outputs": [
    {
     "name": "stdout",
     "output_type": "stream",
     "text": [
      "w: ((1, 1), array([[10.]], dtype=float32))\n",
      "b: ((1,), array([20.], dtype=float32))\n"
     ]
    }
   ],
   "source": [
    "# import an affine function\n",
    "dense = Dense(units=1,\n",
    "              activation='linear',\n",
    "              kernel_initializer=w_init,\n",
    "              bias_initializer=b_init)\n",
    "y_tf = dense(x)\n",
    "w,b = dense.get_weights()\n",
    "print(f'w: {w.shape, w}')\n",
    "print(f'b: {b.shape, b}')"
   ]
  },
  {
   "cell_type": "markdown",
   "id": "d0510a91-6066-4231-bace-d12374923751",
   "metadata": {},
   "source": [
    "## summary"
   ]
  },
  {
   "cell_type": "code",
   "execution_count": 24,
   "id": "c9eed60b-2613-4755-b2ad-fb78c13f1463",
   "metadata": {},
   "outputs": [
    {
     "name": "stdout",
     "output_type": "stream",
     "text": [
      "========== Input/Weight/Bias ==========\n",
      "X: (TensorShape([1, 1]), array([[20.]], dtype=float32))\n",
      "W: ((1, 1), array([[0.5275513]], dtype=float32))\n",
      "B: ((1,), array([0.], dtype=float32))\n",
      "========== Output ==========\n",
      "Y_tf     : (TensorShape([1, 1]), array([[10.551025]], dtype=float32))\n",
      "Y_manual : (TensorShape([1, 1]), array([[10.551025]], dtype=float32))\n"
     ]
    }
   ],
   "source": [
    "import tensorflow as tf\n",
    "from tensorflow.keras.layers import Dense\n",
    "\n",
    "X = tf.constant([[20.]]) #input setting(Note: input -> matrix)\n",
    "Dense = Dense(units=1) #import an affine function\n",
    "Y_tf = Dense(X) # forward propagation + parameter initialization\n",
    "W,B = Dense.get_weights() # get weight, bias\n",
    "\n",
    "Y_manual = tf.linalg.matmul(X, W) + B # forward propagation by manually\n",
    "\n",
    "print('========== Input/Weight/Bias ==========')\n",
    "print(f'X: {X.shape, X.numpy()}')\n",
    "print(f'W: {W.shape, W}') #weight는 기본적으로 numpy 값임\n",
    "print(f'B: {B.shape, B}')\n",
    "\n",
    "print('========== Output ==========')\n",
    "print(f'Y_tf     : {Y_tf.shape, Y_tf.numpy()}')\n",
    "print(f'Y_manual : {Y_manual.shape, Y_manual.numpy()}')"
   ]
  },
  {
   "cell_type": "markdown",
   "id": "e63e3fe3-e035-4eda-8a01-6d15f2b9d019",
   "metadata": {},
   "source": [
    "# Affine Function with n Feature"
   ]
  },
  {
   "cell_type": "markdown",
   "id": "ca169c84-d8e5-4f10-9d3e-40ae905663b1",
   "metadata": {},
   "source": [
    "## import tensorflow and a layer"
   ]
  },
  {
   "cell_type": "code",
   "execution_count": 10,
   "id": "2f131eb1-4b78-4f27-b140-869586010b3c",
   "metadata": {},
   "outputs": [],
   "source": [
    "import tensorflow as tf\n",
    "from tensorflow.keras.layers import Dense"
   ]
  },
  {
   "cell_type": "markdown",
   "id": "d7abc192-f8e7-467f-b86f-dd210e23c602",
   "metadata": {},
   "source": [
    "## Input setting"
   ]
  },
  {
   "cell_type": "code",
   "execution_count": 16,
   "id": "507bc103-a75d-4069-a2c5-8d54ce7fb76c",
   "metadata": {},
   "outputs": [
    {
     "name": "stdout",
     "output_type": "stream",
     "text": [
      "(1, 10) \n",
      " tf.Tensor(\n",
      "[[7.5037374 1.3955057 0.7668841 8.940832  8.673107  8.414509  4.07658\n",
      "  5.2791357 2.672174  5.5867968]], shape=(1, 10), dtype=float32)\n"
     ]
    }
   ],
   "source": [
    "x = tf.random.uniform(shape=(1,10), minval=0, maxval=10)\n",
    "#random.uniform 은 tensorflow의 random 모듈 안에서\n",
    "# 1이라는 row에 대해\n",
    "# 0부터 10사이에 있는 값들을 10개 uniform하게 생성해주는 함수\n",
    "# 즉 \n",
    "\n",
    "print(x.shape, '\\n', x)"
   ]
  },
  {
   "cell_type": "markdown",
   "id": "fb2505ca-1edd-41b1-8b21-1c11f67d4f98",
   "metadata": {},
   "source": [
    "## affine function generation"
   ]
  },
  {
   "cell_type": "code",
   "execution_count": 21,
   "id": "0d881ea2-f610-4f5d-bc36-8d3521e65bb0",
   "metadata": {},
   "outputs": [
    {
     "name": "stdout",
     "output_type": "stream",
     "text": [
      "========== Input/Weight/Bias ==========\n",
      "X: (TensorShape([1, 10]), array([[7.5037374, 1.3955057, 0.7668841, 8.940832 , 8.673107 , 8.414509 ,\n",
      "        4.07658  , 5.2791357, 2.672174 , 5.5867968]], dtype=float32))\n",
      "W: (10, 1),\n",
      " [[-0.5154078 ]\n",
      " [-0.04846495]\n",
      " [ 0.7124855 ]\n",
      " [-0.45953324]\n",
      " [-0.03345048]\n",
      " [-0.12407726]\n",
      " [-0.50046813]\n",
      " [ 0.56479996]\n",
      " [-0.17742729]\n",
      " [-0.40332168]]\n",
      "B: ((1,), array([0.], dtype=float32))\n",
      "========== Output ==========\n",
      "y_tf     : (TensorShape([1, 1]), array([[-10.617437]], dtype=float32))\n",
      "y_manual : (TensorShape([1, 1]), array([[-10.617437]], dtype=float32))\n"
     ]
    }
   ],
   "source": [
    "dense = Dense(units=1)\n",
    "y_tf = dense(x)\n",
    "W,B = dense.get_weights()\n",
    "y_man = tf.linalg.matmul(x,W)+B\n",
    "\n",
    "\n",
    "print('========== Input/Weight/Bias ==========')\n",
    "print(f'X: {x.shape, x.numpy()}')\n",
    "print(f'W: {W.shape},\\n {W}') #weight는 기본적으로 numpy 값임\n",
    "print(f'B: {B.shape, B}')\n",
    "\n",
    "print('========== Output ==========')\n",
    "print(f'y_tf     : {y_tf.shape, y_tf.numpy()}')\n",
    "print(f'y_manual : {y_man.shape, y_man.numpy()}')"
   ]
  },
  {
   "cell_type": "code",
   "execution_count": null,
   "id": "7d14fb15-7e34-4863-aa8f-439e4423422a",
   "metadata": {},
   "outputs": [],
   "source": []
  }
 ],
 "metadata": {
  "kernelspec": {
   "display_name": "Python 3 (ipykernel)",
   "language": "python",
   "name": "python3"
  },
  "language_info": {
   "codemirror_mode": {
    "name": "ipython",
    "version": 3
   },
   "file_extension": ".py",
   "mimetype": "text/x-python",
   "name": "python",
   "nbconvert_exporter": "python",
   "pygments_lexer": "ipython3",
   "version": "3.9.12"
  },
  "toc-autonumbering": true
 },
 "nbformat": 4,
 "nbformat_minor": 5
}
