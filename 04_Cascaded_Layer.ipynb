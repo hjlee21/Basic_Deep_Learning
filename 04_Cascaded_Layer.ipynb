{
 "cells": [
  {
   "cell_type": "markdown",
   "id": "ba7d1045-a667-4a73-a1c3-2ecd282fcb5e",
   "metadata": {},
   "source": [
    "# Cascaded Dense Layer"
   ]
  },
  {
   "cell_type": "markdown",
   "id": "40aec510-cc99-43fe-b657-8f6034b5e707",
   "metadata": {},
   "source": [
    "## Shapes of Cascasded Dense Layer"
   ]
  },
  {
   "cell_type": "code",
   "execution_count": 3,
   "id": "fa6eb618-9ce0-4d78-aabb-de06d068dc1e",
   "metadata": {},
   "outputs": [
    {
     "name": "stdout",
     "output_type": "stream",
     "text": [
      "X : (4, 10)\n",
      "A1: (4, 3)\n",
      "Y : (4, 5)\n",
      "=============\n",
      "W1: (10, 3)\n",
      "B1: (3,)\n",
      "W2: (3, 5)\n",
      "B2: (5,)\n"
     ]
    }
   ],
   "source": [
    "import tensorflow as tf\n",
    "from tensorflow.keras.layers import Dense\n",
    "\n",
    "N, n_feature = 4, 10\n",
    "X = tf.random.normal(shape=(N, n_feature))\n",
    "\n",
    "n_neutrons = (3, 5)\n",
    "dense1 = Dense(units=n_neutrons[0], activation='sigmoid')\n",
    "dense2 = Dense(units=n_neutrons[1], activation='sigmoid')\n",
    "\n",
    "#forward propagation\n",
    "A1 = dense1(X)\n",
    "Y = dense2(A1)\n",
    "\n",
    "#get weight /bias\n",
    "W1, B1 = dense1.get_weights()\n",
    "W2, B2 = dense2.get_weights()\n",
    "\n",
    "print(f\"X : {X.shape}\")\n",
    "print(f\"A1: {A1.shape}\")\n",
    "print(f\"Y : {Y.shape}\")\n",
    "print(\"=============\")\n",
    "print(f\"W1: {W1.shape}\")\n",
    "print(f\"B1: {B1.shape}\")\n",
    "print(f\"W2: {W2.shape}\")\n",
    "print(f\"B2: {B2.shape}\")"
   ]
  },
  {
   "cell_type": "markdown",
   "id": "e4cb3425-2f0a-4414-b818-59ddf039a826",
   "metadata": {},
   "source": [
    "## Dense Layers with Python List"
   ]
  },
  {
   "cell_type": "code",
   "execution_count": 9,
   "id": "b13b7e77-dfcd-43ba-a65b-9601801f7627",
   "metadata": {},
   "outputs": [
    {
     "name": "stdout",
     "output_type": "stream",
     "text": [
      "1\n",
      "2\n",
      "3\n",
      "4\n",
      "5\n",
      "6\n",
      "7\n",
      "8\n",
      "9\n",
      "10\n",
      "Input: (4, 10)\n",
      "After dense layer : 0\n",
      "X.Shape: (4, 10) \n",
      "\n",
      "After dense layer : 1\n",
      "X.Shape: (4, 20) \n",
      "\n",
      "After dense layer : 2\n",
      "X.Shape: (4, 30) \n",
      "\n",
      "After dense layer : 3\n",
      "X.Shape: (4, 40) \n",
      "\n",
      "After dense layer : 4\n",
      "X.Shape: (4, 50) \n",
      "\n",
      "After dense layer : 5\n",
      "X.Shape: (4, 60) \n",
      "\n",
      "After dense layer : 6\n",
      "X.Shape: (4, 70) \n",
      "\n",
      "After dense layer : 7\n",
      "X.Shape: (4, 80) \n",
      "\n",
      "After dense layer : 8\n",
      "X.Shape: (4, 90) \n",
      "\n",
      "After dense layer : 9\n",
      "X.Shape: (4, 10) \n",
      "\n"
     ]
    }
   ],
   "source": [
    "import tensorflow as tf\n",
    "from tensorflow.keras.layers import Dense\n",
    "\n",
    "N, n_feature = 4, 10\n",
    "X = tf.random.normal(shape=(N, n_feature))\n",
    "\n",
    "n_neurons = [10, 20, 30, 40, 50, 60, 70, 80, 90, 10]\n",
    "\n",
    "dense_layers = list()\n",
    "\n",
    "for n_neuron in n_neurons:\n",
    "    dense = Dense(units=n_neuron, activation='relu')\n",
    "    dense_layers.append(dense)\n",
    "    print(len(dense_layers))\n",
    "    \n",
    "print(f\"Input: {X.shape}\")\n",
    "for dense_idx, dense in enumerate(dense_layers):\n",
    "    X = dense(X)\n",
    "    print(f\"After dense layer : {dense_idx}\")\n",
    "    print(f\"X.Shape: {X.shape} \\n\")\n",
    "\n",
    "Y=X"
   ]
  },
  {
   "cell_type": "markdown",
   "id": "d268e012-7405-416f-be20-30b439893a8c",
   "metadata": {},
   "source": [
    "## Output Calculations"
   ]
  },
  {
   "cell_type": "code",
   "execution_count": 22,
   "id": "0712b9a9-900e-4004-b8ac-a74b1059537e",
   "metadata": {},
   "outputs": [
    {
     "name": "stdout",
     "output_type": "stream",
     "text": [
      "Input : (4, 10)\n",
      "Y(Tensorlfow) : \n",
      " [[0.49896258 0.28525877 0.62228686 0.5478754  0.4352584 ]\n",
      " [0.51327187 0.27685845 0.62073326 0.5401703  0.47730505]\n",
      " [0.4967757  0.2869225  0.6326037  0.54423606 0.4072741 ]\n",
      " [0.5095716  0.2842994  0.6417841  0.53215444 0.41681018]]\n"
     ]
    }
   ],
   "source": [
    "import tensorflow as tf\n",
    "from tensorflow.math import exp\n",
    "from tensorflow.linalg import matmul\n",
    "from tensorflow.keras.layers import Dense\n",
    "\n",
    "N, n_feature = 4, 10\n",
    "n_neurons = [3,4,5]\n",
    "\n",
    "X = tf.random.normal(shape=(N, n_feature))\n",
    "X_cp = tf.identity(X)\n",
    "dense_layers = list()\n",
    "\n",
    "for n_neuron in n_neurons:\n",
    "    dense = Dense(units=n_neuron, activation='sigmoid')\n",
    "    dense_layers.append(dense)\n",
    "    \n",
    "print(f\"Input : {X.shape}\")\n",
    "W, B = list(), list()\n",
    "for dense_idx, dense in enumerate(dense_layers):\n",
    "    X=dense(X)\n",
    "    w, b = dense.get_weights()\n",
    "    \n",
    "    W.append(w)\n",
    "    B.append(b)\n",
    "    \n",
    "print(f\"Y(Tensorlfow) : \\n {X.numpy()}\")\n",
    "\n"
   ]
  },
  {
   "cell_type": "code",
   "execution_count": null,
   "id": "b3129b57-ef23-43c6-b4e0-ef3abf8720dd",
   "metadata": {},
   "outputs": [],
   "source": []
  }
 ],
 "metadata": {
  "kernelspec": {
   "display_name": "Python 3 (ipykernel)",
   "language": "python",
   "name": "python3"
  },
  "language_info": {
   "codemirror_mode": {
    "name": "ipython",
    "version": 3
   },
   "file_extension": ".py",
   "mimetype": "text/x-python",
   "name": "python",
   "nbconvert_exporter": "python",
   "pygments_lexer": "ipython3",
   "version": "3.9.12"
  },
  "toc-autonumbering": true
 },
 "nbformat": 4,
 "nbformat_minor": 5
}
