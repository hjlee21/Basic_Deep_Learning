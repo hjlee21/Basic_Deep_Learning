{
 "cells": [
  {
   "cell_type": "markdown",
   "metadata": {},
   "source": [
    "# Mean Squared Error"
   ]
  },
  {
   "cell_type": "markdown",
   "metadata": {},
   "source": [
    "## MSE Calculation"
   ]
  },
  {
   "cell_type": "code",
   "execution_count": 8,
   "metadata": {},
   "outputs": [
    {
     "name": "stdout",
     "output_type": "stream",
     "text": [
      "(32, 1) (32, 1)\n",
      "mse(tensorflow):  2.36077618598938\n"
     ]
    }
   ],
   "source": [
    "import tensorflow as tf\n",
    "\n",
    "from tensorflow.keras.losses import MeanSquaredError\n",
    "\n",
    "loss_object = MeanSquaredError()\n",
    "#loss_object는 y_hat 과 y를 비교해줄 object로 만들계획\n",
    "\n",
    "batch_size=32\n",
    "\n",
    "predictions = tf.random.normal(shape=(batch_size, 1))\n",
    "#normal distribution으로 y_hat 값을 생산해줌\n",
    "\n",
    "labels = tf.random.normal(shape=(batch_size,1))\n",
    "#normal distribution으로 y 값을 생산해줌\n",
    "\n",
    "print(predictions.shape, labels.shape)\n",
    "\n",
    "mse = loss_object(labels, predictions)\n",
    "print(f\"mse(tensorflow):  {mse}\")"
   ]
  },
  {
   "cell_type": "markdown",
   "metadata": {},
   "source": [
    "## Manual calculation of MSE"
   ]
  },
  {
   "cell_type": "code",
   "execution_count": 9,
   "metadata": {},
   "outputs": [
    {
     "name": "stdout",
     "output_type": "stream",
     "text": [
      "mse_manual(tensorflow):  2.36077618598938\n"
     ]
    }
   ],
   "source": [
    "mse_manual = tf.reduce_mean(tf.math.pow(labels-predictions,2))\n",
    "print(f\"mse_manual(tensorflow):  {mse_manual}\")"
   ]
  },
  {
   "cell_type": "markdown",
   "metadata": {},
   "source": [
    "## MSE with Model/Dataset"
   ]
  },
  {
   "cell_type": "code",
   "execution_count": 15,
   "metadata": {},
   "outputs": [
    {
     "name": "stdout",
     "output_type": "stream",
     "text": [
      "(32, 5) (32, 1)\n",
      "2.081595\n",
      "(32, 5) (32, 1)\n",
      "2.227411\n",
      "(32, 5) (32, 1)\n",
      "3.074863\n",
      "(4, 5) (4, 1)\n",
      "2.1184158\n"
     ]
    }
   ],
   "source": [
    "import unittest\n",
    "import tensorflow as tf\n",
    "\n",
    "from tensorflow.keras.layers import Dense\n",
    "\n",
    "from tensorflow.keras.losses import MeanSquaredError\n",
    "\n",
    "N, n_feature = 100, 5\n",
    "\n",
    "X = tf.random.normal(shape=(N, n_feature))\n",
    "Y = tf.random.normal(shape=(N,1))\n",
    "\n",
    "dataset = tf.data.Dataset.from_tensor_slices((X,Y))\n",
    "dataset = dataset.batch(batch_size)\n",
    "\n",
    "\n",
    "model = Dense(units=1, activation='linear')\n",
    "loss_object = MeanSquaredError()\n",
    "\n",
    "for x, y in dataset:\n",
    "    print(x.shape, y.shape)\n",
    "    predictions = model(x)\n",
    "    loss = loss_object(y, predictions)\n",
    "    print(loss.numpy())"
   ]
  },
  {
   "cell_type": "code",
   "execution_count": null,
   "metadata": {},
   "outputs": [],
   "source": []
  },
  {
   "cell_type": "code",
   "execution_count": null,
   "metadata": {},
   "outputs": [],
   "source": []
  }
 ],
 "metadata": {
  "kernelspec": {
   "display_name": "Python 3.9.12 64-bit",
   "language": "python",
   "name": "python3"
  },
  "language_info": {
   "codemirror_mode": {
    "name": "ipython",
    "version": 3
   },
   "file_extension": ".py",
   "mimetype": "text/x-python",
   "name": "python",
   "nbconvert_exporter": "python",
   "pygments_lexer": "ipython3",
   "version": "3.9.12"
  },
  "orig_nbformat": 4,
  "vscode": {
   "interpreter": {
    "hash": "56a8ed90a94e1381940930c13263893b39870ef8f2c596d830c78dc56de5a827"
   }
  }
 },
 "nbformat": 4,
 "nbformat_minor": 2
}
