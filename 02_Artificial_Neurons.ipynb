{
 "cells": [
  {
   "cell_type": "markdown",
   "id": "d9fec9c0-1bf5-452f-9413-30935514a0d7",
   "metadata": {},
   "source": [
    "# Activation Function"
   ]
  },
  {
   "cell_type": "markdown",
   "id": "06170f0a-fae9-4b0b-ba2a-ab52798cdf18",
   "metadata": {},
   "source": [
    "## import tensorflow & activation function"
   ]
  },
  {
   "cell_type": "code",
   "execution_count": 7,
   "id": "217be33f-09a9-47c5-a7c1-be8d9ad46b80",
   "metadata": {},
   "outputs": [],
   "source": [
    "import tensorflow as tf\n",
    "from tensorflow.math import exp, maximum\n",
    "from tensorflow.keras.layers import Activation"
   ]
  },
  {
   "cell_type": "markdown",
   "id": "9a3e640a-e47c-47f9-a21e-09edb189493f",
   "metadata": {},
   "source": [
    "## input setting"
   ]
  },
  {
   "cell_type": "code",
   "execution_count": 8,
   "id": "14177265-b0b6-4f2b-81e7-444e4ded7f86",
   "metadata": {},
   "outputs": [],
   "source": [
    "x = tf.random.normal(shape=(1,5))"
   ]
  },
  {
   "cell_type": "markdown",
   "id": "053b7345-fba7-47d4-8826-9a62654e9473",
   "metadata": {},
   "source": [
    "## activation function generation"
   ]
  },
  {
   "cell_type": "code",
   "execution_count": 11,
   "id": "5252166c-9ebc-43d0-8a28-6aabe63eaf93",
   "metadata": {},
   "outputs": [],
   "source": [
    "sigmoid = Activation('sigmoid')\n",
    "tanh = Activation('tanh')\n",
    "relu = Activation('relu')"
   ]
  },
  {
   "cell_type": "markdown",
   "id": "c5d7dde5-6759-4673-a733-10e44933e377",
   "metadata": {},
   "source": [
    "## forward propagation"
   ]
  },
  {
   "cell_type": "code",
   "execution_count": 12,
   "id": "1b09da7c-74bf-4aa1-b9a3-aefc2c9d686a",
   "metadata": {},
   "outputs": [],
   "source": [
    "y_sigmoid_tf = sigmoid(x)\n",
    "y_tanh_tf = tanh(x)\n",
    "y_relu_tf = relu(x)"
   ]
  },
  {
   "cell_type": "code",
   "execution_count": 15,
   "id": "7b76d891-40dc-489f-8101-49e918280255",
   "metadata": {},
   "outputs": [
    {
     "name": "stdout",
     "output_type": "stream",
     "text": [
      "x:                   (1, 5) \n",
      " [[ 0.5542659  -1.5946397  -0.55887824 -0.7419671   0.35267764]]\n",
      "Sigmoid(Tensorflow): (1, 5) \n",
      " [[0.63512474 0.16873214 0.36380705 0.32257417 0.58726674]]\n",
      "tanh(Tensorflow):    (1, 5) \n",
      " [[ 0.5037106  -0.92085767 -0.5071447  -0.6303322   0.33874804]]\n",
      "ReLU(Tensorflow):    (1, 5) \n",
      " [[0.5542659  0.         0.         0.         0.35267764]]\n"
     ]
    }
   ],
   "source": [
    "print(f'x:                   {x.shape} \\n {x.numpy()}')\n",
    "print(f'Sigmoid(Tensorflow): {y_sigmoid_tf.shape} \\n {y_sigmoid_tf.numpy()}')\n",
    "print(f'tanh(Tensorflow):    {y_tanh_tf.shape} \\n {y_tanh_tf.numpy()}')\n",
    "print(f'ReLU(Tensorflow):    {y_relu_tf.shape} \\n {y_relu_tf.numpy()}')"
   ]
  },
  {
   "cell_type": "markdown",
   "id": "0206976d-63c6-4bcc-952d-bd25a6cc998b",
   "metadata": {},
   "source": [
    "## manual forward propagation"
   ]
  },
  {
   "cell_type": "code",
   "execution_count": 16,
   "id": "2cc2eb89-5598-44fa-abb8-34a577e4be66",
   "metadata": {},
   "outputs": [
    {
     "name": "stdout",
     "output_type": "stream",
     "text": [
      "x:                   (1, 5) \n",
      " [[ 0.5542659  -1.5946397  -0.55887824 -0.7419671   0.35267764]]\n",
      "Sigmoid(manual): (1, 5) \n",
      " [[0.63512474 0.16873214 0.36380705 0.32257417 0.58726674]]\n",
      "tanh(manual):    (1, 5) \n",
      " [[ 0.5037106  -0.9208577  -0.5071447  -0.6303322   0.33874807]]\n",
      "ReLU(manual):    (1, 5) \n",
      " [[0.5542659  0.         0.         0.         0.35267764]]\n"
     ]
    }
   ],
   "source": [
    "y_sigmoid_man = 1/(1+ exp(-x))\n",
    "y_tanh_man = (exp(x)-exp(-x))/(exp(x)+exp(-x))\n",
    "y_relu_man = maximum(x,0)\n",
    "\n",
    "\n",
    "print(f'x:                   {x.shape} \\n {x.numpy()}')\n",
    "print(f'Sigmoid(manual): {y_sigmoid_man.shape} \\n {y_sigmoid_man.numpy()}')\n",
    "print(f'tanh(manual):    {y_tanh_man.shape} \\n {y_tanh_man.numpy()}')\n",
    "print(f'ReLU(manual):    {y_relu_man.shape} \\n {y_relu_man.numpy()}')"
   ]
  },
  {
   "cell_type": "markdown",
   "id": "aac62504-f2d1-402f-b7cd-35b7ca13f2ed",
   "metadata": {},
   "source": [
    "# Activation in Dense layer"
   ]
  },
  {
   "cell_type": "markdown",
   "id": "1420e305-a11f-4ff0-8827-10d539425a60",
   "metadata": {},
   "source": [
    "## import tensorflow and Dense"
   ]
  },
  {
   "cell_type": "code",
   "execution_count": 19,
   "id": "bc7623f8-c1d1-47ea-b9a8-ffb91afd81db",
   "metadata": {},
   "outputs": [],
   "source": [
    "import tensorflow as tf\n",
    "\n",
    "from tensorflow.keras.layers import Dense"
   ]
  },
  {
   "cell_type": "markdown",
   "id": "22f47b14-b5b8-4a39-94ba-e4ab54e2f49e",
   "metadata": {},
   "source": [
    "## Input setting"
   ]
  },
  {
   "cell_type": "code",
   "execution_count": 20,
   "id": "f0c494f4-5467-4c8b-85c3-8601048831c6",
   "metadata": {},
   "outputs": [],
   "source": [
    "x = tf.random.normal(shape=(1,5)) # input setting"
   ]
  },
  {
   "cell_type": "markdown",
   "id": "19244632-f478-4695-9ef9-72e7c18a76a1",
   "metadata": {},
   "source": [
    "## import artifical neutrons and generate activation function"
   ]
  },
  {
   "cell_type": "code",
   "execution_count": 21,
   "id": "f2c53b6f-c58b-40eb-a39e-3749b19ff9d4",
   "metadata": {},
   "outputs": [],
   "source": [
    "dense_sigmoid = Dense(units=1, activation='sigmoid')\n",
    "dense_tanh = Dense(units=1, activation='tanh')\n",
    "dense_relu = Dense(units=1, activation='relu')"
   ]
  },
  {
   "cell_type": "markdown",
   "id": "88ce61f1-6b5f-40db-b966-845318709b0a",
   "metadata": {},
   "source": [
    "## forward propagaion"
   ]
  },
  {
   "cell_type": "code",
   "execution_count": 22,
   "id": "8ccc57f3-65d7-4381-96ea-be24e87ece9b",
   "metadata": {},
   "outputs": [],
   "source": [
    "y_sigmoid = dense_sigmoid(x)\n",
    "y_tanh = dense_tanh(x)\n",
    "y_relu = dense_relu(x)"
   ]
  },
  {
   "cell_type": "code",
   "execution_count": 23,
   "id": "d9ded930-02a3-4345-a3a4-a269168d42bf",
   "metadata": {},
   "outputs": [
    {
     "name": "stdout",
     "output_type": "stream",
     "text": [
      "Artificial Neuron with Sigmoid: (1, 1)\n",
      "[[0.40879223]]\n",
      "Artificial Neuron with tanh   : (1, 1)\n",
      "[[-0.8623651]]\n",
      "Artificial Neuron with ReLU   : (1, 1)\n",
      "[[0.]]\n"
     ]
    }
   ],
   "source": [
    "print(f'Artificial Neuron with Sigmoid: {y_sigmoid.shape}\\n{y_sigmoid}')\n",
    "print(f'Artificial Neuron with tanh   : {y_tanh.shape}\\n{y_tanh}')\n",
    "print(f'Artificial Neuron with ReLU   : {y_relu.shape}\\n{y_relu}')"
   ]
  },
  {
   "cell_type": "markdown",
   "id": "6c9184cf-bf36-4f21-bb2c-e2218de9aca8",
   "metadata": {},
   "source": [
    "## forward propagation by manually"
   ]
  },
  {
   "cell_type": "code",
   "execution_count": 25,
   "id": "6a555e8f-98d9-4bf8-97ab-3d87578e14d7",
   "metadata": {},
   "outputs": [
    {
     "name": "stdout",
     "output_type": "stream",
     "text": [
      "Activation value(Tensorflow): (1, 1)\n",
      "[[0.40879223]]\n",
      "Activation value(Manual)    : (1, 1)\n",
      "[[0.40879223]]\n"
     ]
    }
   ],
   "source": [
    "W, b = dense_sigmoid.get_weights()\n",
    "z = tf.linalg.matmul(x,W)+b\n",
    "a = 1/ (1+exp(-z))\n",
    "print(f'Activation value(Tensorflow): {y_sigmoid.shape}\\n{y_sigmoid.numpy()}')\n",
    "print(f'Activation value(Manual)    : {a.shape}\\n{a.numpy()}')"
   ]
  },
  {
   "cell_type": "markdown",
   "id": "5395fb7c-157b-4fd5-a95e-97c124ed408a",
   "metadata": {},
   "source": [
    "# Minibatches"
   ]
  },
  {
   "cell_type": "code",
   "execution_count": 31,
   "id": "b104084b-af39-4104-af47-728d7cb29d40",
   "metadata": {},
   "outputs": [
    {
     "name": "stdout",
     "output_type": "stream",
     "text": [
      "(8, 10)\n"
     ]
    }
   ],
   "source": [
    "import tensorflow as tf\n",
    "\n",
    "from tensorflow.keras.layers import Dense\n",
    "\n",
    "N, n_feature = 8, 10 #set input parameters\n",
    "x = tf.random.normal(shape=(N, n_feature)) # minibatch generation\n",
    "#이 말은 matrix형태의 x가 8행 10열짜리\n",
    "print(x.shape)"
   ]
  },
  {
   "cell_type": "code",
   "execution_count": 34,
   "id": "9be89ba9-f610-4e39-9be7-40275034a41a",
   "metadata": {},
   "outputs": [],
   "source": [
    "dense = Dense(units=1, activation='relu') # artifical neuron import\n",
    "y = dense(x) #forward propagaion\n",
    "\n",
    "W, B = dense.get_weights() #우리가 궁금한건 weight 와 bias 의 생김새"
   ]
  },
  {
   "cell_type": "code",
   "execution_count": 36,
   "id": "aa213cd7-1eba-4335-9dc5-f006e48a5b7f",
   "metadata": {},
   "outputs": [
    {
     "name": "stdout",
     "output_type": "stream",
     "text": [
      "Shape of x: (8, 10)\n",
      "Shape of W: (10, 1)\n",
      "Shape of B: (1,)\n"
     ]
    }
   ],
   "source": [
    "print(f'Shape of x: {x.shape}')\n",
    "print(f'Shape of W: {W.shape}')\n",
    "print(f'Shape of B: {B.shape}')\n",
    "            "
   ]
  },
  {
   "cell_type": "markdown",
   "id": "07775388-4b14-42ef-9568-4d81d9e05849",
   "metadata": {},
   "source": [
    "- Minibatch의 사이즈는 절대로 Weight와 Bias의 사이즈에 영향을 미치지 않는다\n",
    "- 여기서 Feature 가 10개니까 Weight가 10개가 만들어지는 거고 Bias는 1개가 만들어지는 것\n"
   ]
  },
  {
   "cell_type": "markdown",
   "id": "43f19f09-23c9-4c8b-b0ff-f18f3fb18bb4",
   "metadata": {},
   "source": [
    "## When multiple minibatches"
   ]
  },
  {
   "cell_type": "code",
   "execution_count": 43,
   "id": "ce468f69-a28d-446f-9013-72000349baec",
   "metadata": {},
   "outputs": [
    {
     "name": "stdout",
     "output_type": "stream",
     "text": [
      "Output(tensorflow)  : \n",
      " [[0.39360315]\n",
      " [0.36543217]\n",
      " [0.22254945]\n",
      " [0.3948591 ]\n",
      " [0.55609214]\n",
      " [0.7829775 ]\n",
      " [0.762839  ]\n",
      " [0.36966085]]\n",
      "Output(manual)      : \n",
      " [[0.39360315]\n",
      " [0.36543217]\n",
      " [0.22254945]\n",
      " [0.3948591 ]\n",
      " [0.55609214]\n",
      " [0.7829775 ]\n",
      " [0.762839  ]\n",
      " [0.36966088]]\n"
     ]
    }
   ],
   "source": [
    "import tensorflow as tf\n",
    "\n",
    "from tensorflow.keras.layers import Dense\n",
    "\n",
    "N, n_feature = 8, 10 #set input parameters\n",
    "x = tf.random.normal(shape=(N, n_feature)) # minibatch generation\n",
    "\n",
    "dense = Dense(units=1, activation='sigmoid') # artifical neuron import\n",
    "y_tf = dense(x) #forward propagaion (tensorflow)\n",
    "\n",
    "W, B = dense.get_weights() #get weight and bias\n",
    "\n",
    "y_man = tf.linalg.matmul(x, W)+B #forward propagation (manual)\n",
    "y_man = 1/(1+tf.math.exp(-y_man))\n",
    "\n",
    "#print results\n",
    "print(f'Output(tensorflow)  : \\n {y_tf.numpy()}')\n",
    "print(f'Output(manual)      : \\n {y_man.numpy()}')"
   ]
  },
  {
   "cell_type": "code",
   "execution_count": null,
   "id": "c42fc54e-9c3a-4fb4-bbf9-cf70a03fdbd3",
   "metadata": {},
   "outputs": [],
   "source": []
  }
 ],
 "metadata": {
  "kernelspec": {
   "display_name": "Python 3 (ipykernel)",
   "language": "python",
   "name": "python3"
  },
  "language_info": {
   "codemirror_mode": {
    "name": "ipython",
    "version": 3
   },
   "file_extension": ".py",
   "mimetype": "text/x-python",
   "name": "python",
   "nbconvert_exporter": "python",
   "pygments_lexer": "ipython3",
   "version": "3.9.12"
  }
 },
 "nbformat": 4,
 "nbformat_minor": 5
}
