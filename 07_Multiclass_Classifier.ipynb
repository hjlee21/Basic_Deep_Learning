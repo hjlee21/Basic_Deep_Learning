{
 "cells": [
  {
   "cell_type": "markdown",
   "id": "b663ffdd-94e6-4a00-b1c8-9e3b6302098a",
   "metadata": {},
   "source": [
    "# Softmax Layers"
   ]
  },
  {
   "cell_type": "markdown",
   "id": "59bc675b-679e-437c-ab6b-778059c55b20",
   "metadata": {},
   "source": [
    "## IO of  Softmax"
   ]
  },
  {
   "cell_type": "code",
   "execution_count": 1,
   "id": "a62b296c-3ebd-4bbd-886f-2639cdaace7c",
   "metadata": {},
   "outputs": [
    {
     "name": "stdout",
     "output_type": "stream",
     "text": [
      "tf.Tensor([[-3.5292315  8.746845   1.3904333  4.5532227 -1.2358141]], shape=(1, 5), dtype=float32)\n"
     ]
    }
   ],
   "source": [
    "import tensorflow as tf\n",
    "from tensorflow.keras.layers import Activation\n",
    "\n",
    "logits = tf.random.uniform(shape=(1,5), minval=-10, maxval=10)\n",
    "print(logits)"
   ]
  },
  {
   "cell_type": "code",
   "execution_count": 7,
   "id": "a536dca9-3c56-44be-b19b-9e792061f5d1",
   "metadata": {},
   "outputs": [
    {
     "name": "stdout",
     "output_type": "stream",
     "text": [
      "Logits:            [[-3.5292315  8.746845   1.3904333  4.5532227 -1.2358141]]\n",
      "Probabilities:     [[4.5895204e-06 9.8446423e-01 6.2856596e-04 1.4857057e-02 4.5476401e-05]]\n",
      "Sum of softmax:    [0.99999994]\n"
     ]
    }
   ],
   "source": [
    "softmax_value = Activation('softmax')(logits)\n",
    "softmax_sum = tf.reduce_sum(softmax_value, axis=1)#axis 1이라 함은 행렬에서 축방향으로 이어지는 방향을 말함\n",
    "\n",
    "print(f\"Logits:            {logits.numpy()}\")\n",
    "print(f\"Probabilities:     {softmax_value.numpy()}\")\n",
    "print(f\"Sum of softmax:    {softmax_sum.numpy()}\")"
   ]
  },
  {
   "cell_type": "markdown",
   "id": "3119d9ae-e28a-4aac-b9af-be08309b964a",
   "metadata": {},
   "source": [
    "합이 거의 1인 것을 알 수 있다."
   ]
  },
  {
   "cell_type": "code",
   "execution_count": 8,
   "id": "2a68f6ae-3029-40c2-bbb6-491c7ec53c47",
   "metadata": {},
   "outputs": [
    {
     "name": "stdout",
     "output_type": "stream",
     "text": [
      "Logits:            \n",
      "[[ 2.0092058  2.3833542 -2.7985334 -2.8313518 -4.961643 ]\n",
      " [-9.767086  -7.2424173  2.5581284  5.264904  -6.662009 ]]\n",
      "Probabilities:     \n",
      "[[4.0473369e-01 5.8838272e-01 3.3051767e-03 3.1984670e-03 3.7998642e-04]\n",
      " [2.7772953e-07 3.4679410e-06 6.2574103e-02 9.3741602e-01 6.1964101e-06]]\n",
      "Sum of softmax:    \n",
      "[1. 1.]\n"
     ]
    }
   ],
   "source": [
    "logits = tf.random.uniform(shape=(2,5), minval=-10, maxval=10) #2개의 데이터셈플, 5개의 클래스\n",
    "\n",
    "softmax_value = Activation('softmax')(logits)\n",
    "softmax_sum = tf.reduce_sum(softmax_value, axis=1)#axis 1이라 함은 행렬에서 축방향으로 이어지는 방향을 말함\n",
    "\n",
    "print(f\"Logits:            \\n{logits.numpy()}\")\n",
    "print(f\"Probabilities:     \\n{softmax_value.numpy()}\")\n",
    "print(f\"Sum of softmax:    \\n{softmax_sum.numpy()}\")"
   ]
  },
  {
   "cell_type": "markdown",
   "id": "6b8a6101-46ec-482c-8807-0b9a36e72f08",
   "metadata": {},
   "source": [
    "## Softmax in Dense Layers"
   ]
  },
  {
   "cell_type": "code",
   "execution_count": 9,
   "id": "699a6054-868e-4607-91b9-f1ce85dd725d",
   "metadata": {},
   "outputs": [
    {
     "name": "stdout",
     "output_type": "stream",
     "text": [
      "tf.Tensor(\n",
      "[1.        1.0000001 1.        1.        1.        1.        1.\n",
      " 1.       ], shape=(8,), dtype=float32)\n"
     ]
    }
   ],
   "source": [
    "import tensorflow as tf\n",
    "from tensorflow.keras.layers import Activation\n",
    "from tensorflow.keras.layers import Dense\n",
    "\n",
    "logit = tf.random.uniform(shape=(8,5), minval=-10, maxval=10)\n",
    "dense = Dense(units=8, activation='softmax')\n",
    "Y = dense(logit)\n",
    "print(tf.reduce_sum(Y, axis=1))"
   ]
  },
  {
   "cell_type": "markdown",
   "id": "43457473-d8bc-4a73-aebb-203b5cc60915",
   "metadata": {},
   "source": [
    "# Multiclass Classifier"
   ]
  },
  {
   "cell_type": "code",
   "execution_count": 33,
   "id": "f75222d6-d00e-4f85-8aa0-12b6fd61e0ea",
   "metadata": {},
   "outputs": [
    {
     "name": "stdout",
     "output_type": "stream",
     "text": [
      "=========================================== x\n",
      "X_Shape:(8, 3)\n",
      "X      :[[ 7.324276   -1.2896776  -8.2765465 ]\n",
      " [ 5.17021    -0.50564957 -9.407146  ]\n",
      " [ 5.081236   -7.677765   -0.04022789]\n",
      " [-1.2168236   4.5332546   4.145191  ]\n",
      " [ 5.068819   -9.887573    5.781288  ]\n",
      " [ 4.021309    8.986099   -4.945507  ]\n",
      " [ 8.009718   -7.3444867   2.8395634 ]\n",
      " [-7.578597   -0.3091097  -2.2629786 ]]\n",
      "=========================================== after layer 1\n",
      "X_Shape:(8, 8)\n",
      "X_D1   :[[0.0000000e+00 1.1732420e+00 9.7245312e+00 0.0000000e+00 2.9787357e+00\n",
      "  0.0000000e+00 0.0000000e+00 0.0000000e+00]\n",
      " [9.7291684e-04 2.7603362e+00 8.2536297e+00 0.0000000e+00 1.1691597e+00\n",
      "  0.0000000e+00 0.0000000e+00 0.0000000e+00]\n",
      " [3.6109006e-01 2.8024605e-01 7.8637457e+00 3.1413715e+00 3.9289494e+00\n",
      "  2.6132839e+00 0.0000000e+00 1.6264093e+00]\n",
      " [0.0000000e+00 0.0000000e+00 0.0000000e+00 0.0000000e+00 0.0000000e+00\n",
      "  1.1117155e-02 3.6935916e+00 1.9977278e+00]\n",
      " [0.0000000e+00 0.0000000e+00 6.4291921e+00 3.7410014e+00 5.5382133e+00\n",
      "  6.7066188e+00 1.4372127e+00 5.7798324e+00]\n",
      " [0.0000000e+00 0.0000000e+00 2.4466980e-01 0.0000000e+00 9.4959956e-01\n",
      "  0.0000000e+00 0.0000000e+00 0.0000000e+00]\n",
      " [0.0000000e+00 0.0000000e+00 8.4958220e+00 1.2950845e+00 6.6473360e+00\n",
      "  3.0415897e+00 3.5621929e-01 3.8600318e+00]\n",
      " [4.2486072e+00 5.8514838e+00 0.0000000e+00 3.6058455e+00 0.0000000e+00\n",
      "  1.1952012e+00 0.0000000e+00 0.0000000e+00]]\n",
      "=========================================== after layer 2\n",
      "X_Shape:(8, 5)\n",
      "X_D2   :[[0.         3.0137396  1.7340103  0.         0.        ]\n",
      " [0.         1.8156539  1.4165021  0.         0.        ]\n",
      " [0.         2.2556524  0.         0.         0.        ]\n",
      " [2.6623693  2.0170217  0.         0.7800389  1.9575216 ]\n",
      " [0.         2.4323938  0.         0.         0.        ]\n",
      " [0.         0.6128272  0.         0.24039972 0.        ]\n",
      " [0.         3.946068   0.         0.         0.        ]\n",
      " [1.3301489  0.         0.         1.4138403  0.        ]]\n",
      "=========================================== after layer 3\n",
      "X_Shape:(8, 3)\n",
      "X_D3   :[[0.9004983  0.03510572 0.06439602]\n",
      " [0.7287343  0.12282107 0.14844458]\n",
      " [0.8419095  0.04042318 0.11766733]\n",
      " [0.9887657  0.0065851  0.00464931]\n",
      " [0.8638264  0.03269415 0.10347945]\n",
      " [0.4995967  0.22879905 0.2716043 ]\n",
      " [0.9643966  0.00475793 0.03084542]\n",
      " [0.6370713  0.24634103 0.11658769]]\n",
      "Sum of Vectors  : \n",
      "[1.         1.         1.         1.0000001  1.         1.\n",
      " 0.99999994 1.        ]\n"
     ]
    }
   ],
   "source": [
    "import tensorflow as tf\n",
    "import numpy as np\n",
    "\n",
    "from tensorflow.keras.layers import Dense\n",
    "from tensorflow.keras.models import Model #subclass를 활용해보자\n",
    "\n",
    "class TestModel(Model):\n",
    "    def __init__(self):\n",
    "        super(TestModel, self).__init__()\n",
    "        \n",
    "        self.dense1 = Dense(units=8, activation='relu')\n",
    "        self.dense2 = Dense(units=5, activation='relu')\n",
    "        self.dense3 = Dense(units=3, activation='softmax')\n",
    "    \n",
    "    def call(self, x):\n",
    "        \n",
    "        print(\"=========================================== x\")\n",
    "        print(f\"X_Shape:{x.shape}\")\n",
    "        print(f\"X      :{x.numpy()}\")\n",
    "        \n",
    "        x= self.dense1(x)\n",
    "        print(\"=========================================== after layer 1\")\n",
    "        print(f\"X_Shape:{x.shape}\")\n",
    "        print(f\"X_D1   :{x.numpy()}\")\n",
    "        \n",
    "        x= self.dense2(x)\n",
    "        print(\"=========================================== after layer 2\")\n",
    "        print(f\"X_Shape:{x.shape}\")\n",
    "        print(f\"X_D2   :{x.numpy()}\")\n",
    "        \n",
    "        x= self.dense3(x)\n",
    "        print(\"=========================================== after layer 3\")\n",
    "        print(f\"X_Shape:{x.shape}\")\n",
    "        print(f\"X_D3   :{x.numpy()}\")\n",
    "        print(f\"Sum of Vectors  : \\n{tf.reduce_sum(x, axis=1)}\")\n",
    "        \n",
    "        return x\n",
    "    \n",
    "model = TestModel()\n",
    "X = tf.random.uniform(shape=(8, 3), minval=-10, maxval=10)\n",
    "Y = model(X)\n"
   ]
  },
  {
   "cell_type": "code",
   "execution_count": null,
   "id": "8c833e2e-7336-45d1-851d-e5b471097c35",
   "metadata": {},
   "outputs": [],
   "source": []
  },
  {
   "cell_type": "code",
   "execution_count": null,
   "id": "faf377fb-ec4b-4b9f-8375-e2214e0ee931",
   "metadata": {},
   "outputs": [],
   "source": []
  }
 ],
 "metadata": {
  "kernelspec": {
   "display_name": "Python 3 (ipykernel)",
   "language": "python",
   "name": "python3"
  },
  "language_info": {
   "codemirror_mode": {
    "name": "ipython",
    "version": 3
   },
   "file_extension": ".py",
   "mimetype": "text/x-python",
   "name": "python",
   "nbconvert_exporter": "python",
   "pygments_lexer": "ipython3",
   "version": "3.9.12"
  },
  "toc-autonumbering": true
 },
 "nbformat": 4,
 "nbformat_minor": 5
}
