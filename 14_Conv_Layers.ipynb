{
 "cells": [
  {
   "cell_type": "markdown",
   "metadata": {},
   "source": [
    "# Conv. Layers"
   ]
  },
  {
   "cell_type": "markdown",
   "metadata": {},
   "source": [
    "## Shapes of Conv Layers"
   ]
  },
  {
   "cell_type": "code",
   "execution_count": 16,
   "metadata": {},
   "outputs": [
    {
     "data": {
      "text/plain": [
       "<matplotlib.image.AxesImage at 0x1fcd9a449d0>"
      ]
     },
     "execution_count": 16,
     "metadata": {},
     "output_type": "execute_result"
    },
    {
     "data": {
      "image/png": "[encoded data removed]",
      "text/plain": [
       "<Figure size 432x288 with 1 Axes>"
      ]
     },
     "metadata": {
      "needs_background": "light"
     },
     "output_type": "display_data"
    }
   ],
   "source": [
    "import numpy as np\n",
    "import matplotlib.pyplot as plt\n",
    "import tensorflow as tf\n",
    "from tensorflow.keras.layers import Conv2D\n",
    "\n",
    "N, n_H, n_W, n_C = 1, 28, 28, 1\n",
    "n_filter =1\n",
    "k_size = 3\n",
    "\n",
    "image = tf.random.uniform(minval=0, maxval=1, shape=((N, n_H, n_W, n_C))) #흑백이미지를 랜덤으로 생성\n",
    "\n",
    "# 만든 이미지를 확인해보자\n",
    "image_draw = np.array(image[0,:,:,0])\n",
    "plt.imshow(image_draw, 'gray')\n"
   ]
  },
  {
   "cell_type": "code",
   "execution_count": 20,
   "metadata": {},
   "outputs": [
    {
     "name": "stdout",
     "output_type": "stream",
     "text": [
      "image.shape     (1, 28, 28, 1)\n",
      "W.shape         (3, 3, 1, 2)\n",
      "B.shape         (2,)\n",
      "y.shape         (1, 26, 26, 2)\n"
     ]
    }
   ],
   "source": [
    "conv = Conv2D(filters=n_filter, kernel_size=k_size)\n",
    "\n",
    "y=conv(image)\n",
    "W, B = conv.get_weights()\n",
    "\n",
    "print(f\"image.shape     {image.shape}\")\n",
    "print(f\"W.shape         {W.shape}\")\n",
    "print(f\"B.shape         {B.shape}\")\n",
    "print(f\"y.shape         {y.shape}\")\n"
   ]
  },
  {
   "cell_type": "markdown",
   "metadata": {},
   "source": [
    "W.shape 가 (3, 3, 1, 1) 인 이유는 (filter_size, filter_size, Color or Gray, filter 갯수)"
   ]
  },
  {
   "cell_type": "markdown",
   "metadata": {},
   "source": [
    "### Let's Make Multidimentional Image"
   ]
  },
  {
   "cell_type": "code",
   "execution_count": 26,
   "metadata": {},
   "outputs": [
    {
     "name": "stdout",
     "output_type": "stream",
     "text": [
      "image.shape     (1, 28, 28, 5)\n",
      "W.shape         (3, 3, 5, 10)\n",
      "B.shape         (10,)\n",
      "y.shape         (1, 26, 26, 10)\n"
     ]
    }
   ],
   "source": [
    "import tensorflow as tf\n",
    "from tensorflow.keras.layers import Conv2D\n",
    "\n",
    "N, n_H, n_W, n_C = 1, 28, 28, 5\n",
    "n_filter =10\n",
    "k_size = 3\n",
    "\n",
    "image = tf.random.uniform(minval=0, maxval=1, shape=((N, n_H, n_W, n_C))) #흑백이미지를 랜덤으로 생성\n",
    "\n",
    "conv = Conv2D(filters=n_filter, kernel_size=k_size)\n",
    "\n",
    "y=conv(image)\n",
    "W, B = conv.get_weights()\n",
    "\n",
    "print(f\"image.shape     {image.shape}\")\n",
    "print(f\"W.shape         {W.shape}\")\n",
    "print(f\"B.shape         {B.shape}\")\n",
    "print(f\"y.shape         {y.shape}\")\n"
   ]
  },
  {
   "cell_type": "markdown",
   "metadata": {},
   "source": [
    "## Correlation Calculation"
   ]
  },
  {
   "cell_type": "code",
   "execution_count": 53,
   "metadata": {},
   "outputs": [
    {
     "name": "stdout",
     "output_type": "stream",
     "text": [
      "#------------------------------------------------------------------------)\n",
      "[[0.201689   0.4274993  0.6618813  0.39132702 0.5855547 ]\n",
      " [0.7075108  0.7234411  0.63215494 0.30145848 0.40612364]\n",
      " [0.66227186 0.884868   0.14479494 0.01855898 0.78919005]\n",
      " [0.34004045 0.75515175 0.6563387  0.4071194  0.16606307]\n",
      " [0.35057056 0.4051597  0.6676134  0.31081665 0.7005125 ]]\n",
      "(5, 5)\n",
      "[[-0.0294199  -0.04573315  0.53997934]\n",
      " [ 0.5119331   0.31982255  0.39983934]\n",
      " [-0.2669139   0.04572338 -0.30581984]]\n",
      "0 0\n",
      "0 1\n",
      "0 2\n",
      "1 0\n",
      "1 1\n",
      "1 2\n",
      "2 0\n",
      "2 1\n",
      "2 2\n",
      "y(tensorflow)   \n",
      " [[0.9976575  0.6262886  0.58208764]\n",
      " [0.71043    0.3232542  0.37516752]\n",
      " [0.4170408  0.5639771  0.5754293 ]]\n",
      "y(manual)   \n",
      " [[0.99765748 0.62628859 0.58208764]\n",
      " [0.71043003 0.32325417 0.37516752]\n",
      " [0.4170408  0.56397712 0.57542932]]\n"
     ]
    }
   ],
   "source": [
    "import numpy as np\n",
    "import tensorflow as tf\n",
    "\n",
    "from tensorflow.keras.layers import Conv2D\n",
    "\n",
    "N, n_H, n_W, n_C = 1, 5, 5, 1\n",
    "n_filter =1\n",
    "k_size = 3\n",
    "\n",
    "image = tf.random.uniform(minval=0, maxval=1, shape=((N, n_H, n_W, n_C))) #흑백이미지를 랜덤으로 생성\n",
    "\n",
    "conv = Conv2D(filters=n_filter, kernel_size=k_size)\n",
    "\n",
    "y=conv(image)\n",
    "\n",
    "W, B = conv.get_weights()\n",
    "\n",
    "#------------------------------------------------------------------------\n",
    "print(\"#------------------------------------------------------------------------)\")\n",
    "\n",
    "images = image.numpy().squeeze()\n",
    "print(images)\n",
    "print(images.shape)\n",
    "\n",
    "W = W.squeeze()\n",
    "print(W)\n",
    "\n",
    "y_man = np.zeros(shape=((n_H -k_size +1), (n_H -k_size +1)))\n",
    "\n",
    "for i in range(n_H-k_size+1):\n",
    "    for j in range(n_W-k_size+1):\n",
    "        print(i,j)\n",
    "        window = images[i:i+k_size, j: j+k_size]\n",
    "        y_man[i,j] = np.sum(window*W)+B # Convolution Layer에서 수행되는 연산\n",
    "\n",
    "print(f\"y(tensorflow)   \\n {y.numpy().squeeze()}\")\n",
    "print(f\"y(manual)   \\n {y_man}\")\n",
    "\n"
   ]
  },
  {
   "cell_type": "markdown",
   "metadata": {},
   "source": [
    "## Correlation with n-channel"
   ]
  },
  {
   "cell_type": "code",
   "execution_count": 56,
   "metadata": {},
   "outputs": [
    {
     "name": "stdout",
     "output_type": "stream",
     "text": [
      "#------------------------------------------------------------------------)\n",
      "y(tensorflow)   \n",
      " [[-0.19071785 -0.8237418  -0.1920586 ]\n",
      " [-0.23808672 -0.19519922 -0.72118306]\n",
      " [-0.581164   -0.13823643 -1.0851701 ]]\n",
      "y(manual)   \n",
      " [[-0.19071785 -0.82374167 -0.19205865]\n",
      " [-0.23808669 -0.19519927 -0.72118306]\n",
      " [-0.58116394 -0.13823642 -1.08517003]]\n"
     ]
    }
   ],
   "source": [
    "import numpy as np\n",
    "import tensorflow as tf\n",
    "\n",
    "from tensorflow.keras.layers import Conv2D\n",
    "\n",
    "N, n_H, n_W, n_C = 1, 5, 5, 3\n",
    "n_filter =1\n",
    "k_size = 3\n",
    "\n",
    "image = tf.random.uniform(minval=0, maxval=1, shape=((N, n_H, n_W, n_C))) #흑백이미지를 랜덤으로 생성\n",
    "\n",
    "conv = Conv2D(filters=n_filter, kernel_size=k_size)\n",
    "\n",
    "y=conv(image)\n",
    "\n",
    "W, B = conv.get_weights()\n",
    "\n",
    "#------------------------------------------------------------------------\n",
    "print(\"#------------------------------------------------------------------------)\")\n",
    "\n",
    "images = image.numpy().squeeze()\n",
    "\n",
    "W = W.squeeze()\n",
    "y_man = np.zeros(shape=((n_H -k_size +1), (n_H -k_size +1)))\n",
    "\n",
    "for i in range(n_H-k_size+1):\n",
    "    for j in range(n_W-k_size+1):\n",
    "\n",
    "        window = images[i:i+k_size, j: j+k_size, :] #### n-channel 되면서 바뀜\n",
    "        y_man[i,j] = np.sum(window*W)+B # Convolution Layer에서 수행되는 연산\n",
    "\n",
    "print(f\"y(tensorflow)   \\n {y.numpy().squeeze()}\")\n",
    "print(f\"y(manual)   \\n {y_man}\")"
   ]
  }
 ],
 "metadata": {
  "kernelspec": {
   "display_name": "Python 3.9.12 64-bit",
   "language": "python",
   "name": "python3"
  },
  "language_info": {
   "codemirror_mode": {
    "name": "ipython",
    "version": 3
   },
   "file_extension": ".py",
   "mimetype": "text/x-python",
   "name": "python",
   "nbconvert_exporter": "python",
   "pygments_lexer": "ipython3",
   "version": "3.9.12"
  },
  "orig_nbformat": 4,
  "vscode": {
   "interpreter": {
    "hash": "56a8ed90a94e1381940930c13263893b39870ef8f2c596d830c78dc56de5a827"
   }
  }
 },
 "nbformat": 4,
 "nbformat_minor": 2
}
