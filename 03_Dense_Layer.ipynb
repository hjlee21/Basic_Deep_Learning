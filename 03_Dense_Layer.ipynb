{
 "cells": [
  {
   "cell_type": "markdown",
   "id": "b58c3526-1121-4476-b96f-48759d0de4d2",
   "metadata": {},
   "source": [
    "# Dense Layer"
   ]
  },
  {
   "cell_type": "code",
   "execution_count": 26,
   "id": "8764a3c5-e5b8-43a3-b67a-e257690ade35",
   "metadata": {},
   "outputs": [],
   "source": [
    "import numpy as np\n",
    "import tensorflow as tf\n",
    "\n",
    "from tensorflow.math import exp\n",
    "from tensorflow.linalg import matmul\n",
    "from tensorflow.keras.layers import Dense\n",
    "\n",
    "#N : Data sample\n",
    "#n_feature : Data features\n",
    "N, n_feature = 4, 10\n",
    "X = tf.random.normal(shape=(N, n_feature))\n",
    "\n",
    "n_neuron = 3\n",
    "dense = Dense(units=n_neuron, activation='sigmoid')\n",
    "\n",
    "Y_tf=dense(X)\n",
    "W,B = dense.get_weights()\n",
    "\n",
    "#calculate with matrix multiplication\n",
    "Z = matmul(X,W)+B\n",
    "Y_man = 1/(1+exp(-Z))\n",
    "\n",
    "#calculate with dot product\n",
    "Y_man_vec = np.zeros(shape=(N, n_neuron))\n",
    "for x_idx in range(N):\n",
    "    x= X[x_idx]\n",
    "    \n",
    "    for nu_idx in range(n_neuron):\n",
    "        w,b= W[:,nu_idx], B[nu_idx]\n",
    "        z = tf.reduce_sum(x*w)+b\n",
    "        a=1/(1+np.exp(-z))\n",
    "        Y_man_vec[x_idx, nu_idx]=a\n",
    "        "
   ]
  },
  {
   "cell_type": "markdown",
   "id": "673e2c15-efad-4efd-b2c9-7df4a9015091",
   "metadata": {},
   "source": [
    "## Shapes of Dense Layers"
   ]
  },
  {
   "cell_type": "code",
   "execution_count": 28,
   "id": "95b33712-b190-4837-818b-fb52b8f444fd",
   "metadata": {},
   "outputs": [
    {
     "name": "stdout",
     "output_type": "stream",
     "text": [
      "==============\n",
      "X    :(4, 10)\n",
      "W    :(10, 3)\n",
      "B    :(3,)\n",
      "Y_tf :(4, 3)\n",
      "==============\n",
      "Y_tf, row:batch-wise, column:neuron-wise\n",
      "<bound method _EagerTensorBase.numpy of <tf.Tensor: shape=(4, 3), dtype=float32, numpy=\n",
      "array([[0.3609078 , 0.9084963 , 0.90643007],\n",
      "       [0.96038854, 0.84438413, 0.85039103],\n",
      "       [0.19278713, 0.50716895, 0.12326327],\n",
      "       [0.5966667 , 0.7588585 , 0.90638953]], dtype=float32)>>\n",
      "==============\n",
      "Y_man, row:batch-wise, column:neuron-wise\n",
      "<bound method _EagerTensorBase.numpy of <tf.Tensor: shape=(4, 3), dtype=float32, numpy=\n",
      "array([[0.36090776, 0.9084963 , 0.90643007],\n",
      "       [0.96038854, 0.8443842 , 0.850391  ],\n",
      "       [0.19278713, 0.507169  , 0.12326327],\n",
      "       [0.59666663, 0.75885856, 0.90638953]], dtype=float32)>>\n",
      "==============\n",
      "Y_man_vec, row:batch-wise, column:neuron-wise\n",
      "[[0.36090778 0.9084963  0.90643007]\n",
      " [0.96038852 0.84438417 0.85039103]\n",
      " [0.19278714 0.50716899 0.12326328]\n",
      " [0.59666667 0.75885855 0.90638952]]\n"
     ]
    }
   ],
   "source": [
    "print(\"==============\")\n",
    "print(f'X    :{X.shape}')\n",
    "print(f'W    :{W.shape}')\n",
    "print(f'B    :{B.shape}')\n",
    "print(f'Y_tf :{Y_tf.shape}')\n",
    "\n"
   ]
  },
  {
   "cell_type": "markdown",
   "id": "d811bb27-42f4-4e98-b9a1-7682d9a31cf8",
   "metadata": {},
   "source": [
    "## Output Calculations"
   ]
  },
  {
   "cell_type": "code",
   "execution_count": null,
   "id": "2337bfaa-b621-40dc-96de-72f7f6000124",
   "metadata": {},
   "outputs": [],
   "source": [
    "print(\"==============\")\n",
    "#print(\"Weights, row:batch-wise, column:neuron-wise\")\n",
    "#print(W)\n",
    "print(\"Y_tf, row:batch-wise, column:neuron-wise\")\n",
    "print(Y_tf.numpy)\n",
    "\n",
    "print(\"==============\")\n",
    "print(\"Y_man, row:batch-wise, column:neuron-wise\")\n",
    "print(Y_man.numpy)\n",
    "\n",
    "print(\"==============\")\n",
    "print(\"Y_man_vec, row:batch-wise, column:neuron-wise\")\n",
    "print(Y_man_vec)"
   ]
  }
 ],
 "metadata": {
  "kernelspec": {
   "display_name": "Python 3 (ipykernel)",
   "language": "python",
   "name": "python3"
  },
  "language_info": {
   "codemirror_mode": {
    "name": "ipython",
    "version": 3
   },
   "file_extension": ".py",
   "mimetype": "text/x-python",
   "name": "python",
   "nbconvert_exporter": "python",
   "pygments_lexer": "ipython3",
   "version": "3.9.12"
  },
  "toc-autonumbering": true
 },
 "nbformat": 4,
 "nbformat_minor": 5
}
