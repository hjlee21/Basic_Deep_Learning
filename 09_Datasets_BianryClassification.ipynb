{
 "cells": [
  {
   "cell_type": "markdown",
   "id": "1ad50f3c-30d2-4171-92e9-366a806c38fd",
   "metadata": {},
   "source": [
    "# Dataset for Binary Classification"
   ]
  },
  {
   "cell_type": "code",
   "execution_count": 8,
   "id": "81ec8562-8f73-4d39-b0a8-cbbc76063f33",
   "metadata": {},
   "outputs": [],
   "source": [
    "import tensorflow as tf\n",
    "\n",
    "N, n_feature = 8, 5 #N: Minibatch, x의 갯수: 5\n",
    "\n",
    "t_weights = tf.constant([1,2,3,4,5], dtype=tf.float32) #이렇게 쓰는 것이 중요!\n",
    "t_bias = tf.constant([10], dtype=tf.float32)\n",
    "\n",
    "X= tf.random.normal(mean=0, stddev=1, shape=(N, n_feature))\n",
    "Y= tf.reduce_sum(t_weights*X,axis=1) +t_bias\n",
    "\n",
    "#-------------------------------위에까지는 다 똑같음\n",
    "#하지만 우리가 원하는 결과는 0 혹은 1임\n",
    "\n"
   ]
  },
  {
   "cell_type": "code",
   "execution_count": 9,
   "id": "d6e8f066-bf01-4356-83d7-b15b5575c497",
   "metadata": {},
   "outputs": [
    {
     "name": "stdout",
     "output_type": "stream",
     "text": [
      "tf.Tensor(\n",
      "[15.240879  3.827629 13.63904  10.436467 12.259761  8.074112 10.324648\n",
      "  8.394736], shape=(8,), dtype=float32)\n",
      "(8,)\n"
     ]
    }
   ],
   "source": [
    "print(Y)\n",
    "print(Y.shape)"
   ]
  },
  {
   "cell_type": "markdown",
   "id": "14804215-2de1-4bd2-872c-963c4d92db9e",
   "metadata": {},
   "source": [
    "여기서 보면 길이 8짜리 벡터가 만들어짐"
   ]
  },
  {
   "cell_type": "code",
   "execution_count": 10,
   "id": "26fcef68-0ffd-43e8-8a16-c4041727c334",
   "metadata": {},
   "outputs": [
    {
     "name": "stdout",
     "output_type": "stream",
     "text": [
      "tf.Tensor([ True False  True  True  True  True  True  True], shape=(8,), dtype=bool)\n"
     ]
    }
   ],
   "source": [
    "Y = Y>5\n",
    "print(Y)"
   ]
  },
  {
   "cell_type": "markdown",
   "id": "a74448f0-1c69-4514-b77b-71e3157b8b56",
   "metadata": {},
   "source": [
    "datatype 이 boolean 형태로 나옴"
   ]
  },
  {
   "cell_type": "code",
   "execution_count": 11,
   "id": "e4631ad5-500d-480e-8d9f-648d1cc7edcb",
   "metadata": {},
   "outputs": [
    {
     "name": "stdout",
     "output_type": "stream",
     "text": [
      "tf.Tensor([1 0 1 1 1 1 1 1], shape=(8,), dtype=int32)\n"
     ]
    }
   ],
   "source": [
    "Y=tf.cast(Y, tf.int32)\n",
    "print(Y)"
   ]
  },
  {
   "cell_type": "markdown",
   "id": "3405af26-1cb0-4469-a029-2eb8fa445086",
   "metadata": {},
   "source": [
    "상기의 0 1 0 1 등이 Binary Cross Entropy 계산식에 들어가게 됨"
   ]
  },
  {
   "cell_type": "code",
   "execution_count": 14,
   "id": "813e9e4a-0df4-4006-9614-217a0681adac",
   "metadata": {},
   "outputs": [
    {
     "name": "stdout",
     "output_type": "stream",
     "text": [
      "X(shape): (8, 5) | X(dtype): <dtype: 'float32'>\n",
      "X.numpy \n",
      " [[-1.0640454   0.34898704  0.67449933  0.07203194  0.6590648 ]\n",
      " [-0.62996453 -1.4568115   0.73012197 -1.0277418  -0.14163633]\n",
      " [-0.5367576  -0.07654183 -0.90644425  1.2867571   0.3802372 ]\n",
      " [-0.00447988 -0.8928643   0.03841023  0.13647847  0.3131063 ]\n",
      " [-1.5264395   0.9330726  -0.21508446  0.793832   -0.12200396]\n",
      " [-0.5216134   0.7957211  -1.933597   -0.35782346  0.84727377]\n",
      " [ 0.72812605  0.1361325   0.03972473  0.11070572 -0.24754809]\n",
      " [ 0.20698293 -0.55477214  1.2259041  -0.98946595 -0.08451023]]\n",
      "Y = Y>5 경우에 대해서\n",
      "Y(shape): (8,) | Y(dtype): <dtype: 'int32'>\n",
      "Y.numpy \n",
      " [1 0 1 1 1 1 1 1]\n"
     ]
    }
   ],
   "source": [
    "#Result\n",
    "print(f\"X(shape): {X.shape} | X(dtype): {X.dtype}\")\n",
    "print(f\"X.numpy \\n {X.numpy()}\")\n",
    "print(\"Y = Y>5 경우에 대해서\")\n",
    "print(f\"Y(shape): {Y.shape} | Y(dtype): {Y.dtype}\")\n",
    "print(f\"Y.numpy \\n {Y.numpy()}\")\n"
   ]
  }
 ],
 "metadata": {
  "kernelspec": {
   "display_name": "Python 3.9.12 64-bit",
   "language": "python",
   "name": "python3"
  },
  "language_info": {
   "codemirror_mode": {
    "name": "ipython",
    "version": 3
   },
   "file_extension": ".py",
   "mimetype": "text/x-python",
   "name": "python",
   "nbconvert_exporter": "python",
   "pygments_lexer": "ipython3",
   "version": "3.9.12"
  },
  "vscode": {
   "interpreter": {
    "hash": "56a8ed90a94e1381940930c13263893b39870ef8f2c596d830c78dc56de5a827"
   }
  }
 },
 "nbformat": 4,
 "nbformat_minor": 5
}
