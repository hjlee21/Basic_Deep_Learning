{
 "cells": [
  {
   "cell_type": "markdown",
   "metadata": {},
   "source": [
    "# Binary Cross Entropy"
   ]
  },
  {
   "cell_type": "markdown",
   "metadata": {},
   "source": [
    "## BCE Calclation"
   ]
  },
  {
   "cell_type": "code",
   "execution_count": 8,
   "metadata": {},
   "outputs": [
    {
     "name": "stdout",
     "output_type": "stream",
     "text": [
      "tf.Tensor(\n",
      "[[0.6991682 ]\n",
      " [0.9029697 ]\n",
      " [0.6063237 ]\n",
      " [0.92443216]\n",
      " [0.40539253]\n",
      " [0.6955329 ]\n",
      " [0.5229323 ]\n",
      " [0.57768774]\n",
      " [0.33076596]\n",
      " [0.36756825]\n",
      " [0.6569054 ]\n",
      " [0.8625058 ]\n",
      " [0.5025033 ]\n",
      " [0.72491837]\n",
      " [0.9321209 ]\n",
      " [0.16636336]\n",
      " [0.9156828 ]\n",
      " [0.22811806]\n",
      " [0.04695165]\n",
      " [0.6500399 ]\n",
      " [0.9952173 ]\n",
      " [0.73455274]\n",
      " [0.8971679 ]\n",
      " [0.5263994 ]\n",
      " [0.72013533]\n",
      " [0.37345946]\n",
      " [0.00669849]\n",
      " [0.44368863]\n",
      " [0.9048401 ]\n",
      " [0.3702978 ]\n",
      " [0.87668335]\n",
      " [0.20920658]], shape=(32, 1), dtype=float32)\n",
      "tf.Tensor(\n",
      "[[0]\n",
      " [1]\n",
      " [1]\n",
      " [1]\n",
      " [0]\n",
      " [0]\n",
      " [0]\n",
      " [0]\n",
      " [0]\n",
      " [1]\n",
      " [1]\n",
      " [0]\n",
      " [1]\n",
      " [1]\n",
      " [0]\n",
      " [1]\n",
      " [1]\n",
      " [0]\n",
      " [1]\n",
      " [0]\n",
      " [1]\n",
      " [0]\n",
      " [0]\n",
      " [0]\n",
      " [1]\n",
      " [0]\n",
      " [1]\n",
      " [1]\n",
      " [0]\n",
      " [0]\n",
      " [0]\n",
      " [1]], shape=(32, 1), dtype=int32)\n",
      "BCE (Tensorflow) : 1.137152910232544\n"
     ]
    }
   ],
   "source": [
    "import tensorflow as tf\n",
    "\n",
    "from tensorflow.keras.losses import BinaryCrossentropy\n",
    "\n",
    "batch_size = 32\n",
    "n_class=2\n",
    "\n",
    "predictions = tf.random.uniform(shape=(batch_size, 1),\n",
    "                                minval=0, maxval=1,\n",
    "                                dtype=tf.float32)\n",
    "\n",
    "#labels 즉 y값을 0 또는 1로 만들 계획\n",
    "labels = tf.random.uniform(shape=(batch_size,1),\n",
    "                           minval=0, maxval=n_class,\n",
    "                           dtype=tf.int32) #!!\n",
    "print(predictions)\n",
    "print(labels)\n",
    "\n",
    "loss_object = BinaryCrossentropy()\n",
    "loss = loss_object(labels, predictions)\n",
    "\n",
    "print(f\"BCE (Tensorflow) : {loss}\")"
   ]
  },
  {
   "cell_type": "markdown",
   "metadata": {},
   "source": [
    "### Manual calculation"
   ]
  },
  {
   "cell_type": "code",
   "execution_count": 11,
   "metadata": {},
   "outputs": [
    {
     "name": "stdout",
     "output_type": "stream",
     "text": [
      "BCE (Manual) : 1.1371537446975708\n"
     ]
    }
   ],
   "source": [
    "labels = tf.cast(labels, tf.float32)\n",
    "bce_man = -(labels*tf.math.log(predictions) + (1-labels)*tf.math.log(1-predictions))\n",
    "bce_man = tf.reduce_mean(bce_man)\n",
    "\n",
    "print(f\"BCE (Manual) : {bce_man}\")\n"
   ]
  },
  {
   "cell_type": "markdown",
   "metadata": {},
   "source": []
  },
  {
   "cell_type": "markdown",
   "metadata": {},
   "source": [
    "## BCE with Model/Dataset"
   ]
  },
  {
   "cell_type": "code",
   "execution_count": 17,
   "metadata": {},
   "outputs": [
    {
     "name": "stdout",
     "output_type": "stream",
     "text": [
      "0.94236255\n",
      "0.7321863\n",
      "0.6665187\n",
      "1.149787\n"
     ]
    }
   ],
   "source": [
    "import tensorflow as tf\n",
    "\n",
    "from tensorflow.keras.layers import Dense\n",
    "from tensorflow.keras.losses import BinaryCrossentropy\n",
    "\n",
    "N, n_feature = 100, 5\n",
    "\n",
    "t_weights = tf.constant([1,2,3,4,5], dtype=tf.float32)\n",
    "t_bias = tf.constant([10], dtype=tf.float32)\n",
    "\n",
    "X = tf.random.normal(mean=0, stddev=1, shape=(N, n_feature))\n",
    "Y = tf.reduce_sum(t_weights * X, axis=1) + t_bias\n",
    "\n",
    "Y= tf.cast(Y>5, tf. int32)\n",
    "\n",
    "batch_size = 32\n",
    "dataset = tf.data.Dataset.from_tensor_slices((X, Y))\n",
    "dataset = dataset.batch(batch_size)\n",
    "\n",
    "model = Dense(units=1, activation='sigmoid')\n",
    "loss_object = BinaryCrossentropy()\n",
    "\n",
    "for x,y in dataset:\n",
    "    predictions = model(x)\n",
    "    loss = loss_object(y, predictions)\n",
    "    \n",
    "    print(loss.numpy())"
   ]
  }
 ],
 "metadata": {
  "kernelspec": {
   "display_name": "Python 3.9.12 64-bit",
   "language": "python",
   "name": "python3"
  },
  "language_info": {
   "codemirror_mode": {
    "name": "ipython",
    "version": 3
   },
   "file_extension": ".py",
   "mimetype": "text/x-python",
   "name": "python",
   "nbconvert_exporter": "python",
   "pygments_lexer": "ipython3",
   "version": "3.9.12"
  },
  "orig_nbformat": 4,
  "vscode": {
   "interpreter": {
    "hash": "56a8ed90a94e1381940930c13263893b39870ef8f2c596d830c78dc56de5a827"
   }
  }
 },
 "nbformat": 4,
 "nbformat_minor": 2
}
