{
 "cells": [
  {
   "cell_type": "markdown",
   "id": "cde50185-c41a-4edd-aa59-2eaf4660fc11",
   "metadata": {},
   "source": [
    "# Datasets"
   ]
  },
  {
   "cell_type": "markdown",
   "id": "66fc1475-7ee9-4f3e-905b-ed5daedca0b0",
   "metadata": {},
   "source": [
    "## Datasets for Regression"
   ]
  },
  {
   "cell_type": "code",
   "execution_count": 3,
   "id": "0d257712-4762-4db3-b6c7-35cd34f42f30",
   "metadata": {},
   "outputs": [
    {
     "name": "stdout",
     "output_type": "stream",
     "text": [
      "tf.Tensor([1. 2. 3. 4. 5.], shape=(5,), dtype=float32)\n",
      "tf.Tensor([10.], shape=(1,), dtype=float32)\n"
     ]
    }
   ],
   "source": [
    "import tensorflow as tf\n",
    "\n",
    "N, n_feature = 8, 5 #N: Minibatch, x의 갯수: 5\n",
    "\n",
    "t_weights = tf.constant([1,2,3,4,5], dtype=tf.float32) #이렇게 쓰는 것이 중요!\n",
    "t_bias = tf.constant([10], dtype=tf.float32)\n",
    "#즉, \"x1*1 + x2*2 + x3*3 + x4*4 + x5*5 + 10\"을 만들었음\n",
    "\n",
    "print(t_weights)\n",
    "print(t_bias)\n"
   ]
  },
  {
   "cell_type": "code",
   "execution_count": 5,
   "id": "e1e7ad31-76fc-4a07-98ac-28f517a19ba0",
   "metadata": {},
   "outputs": [
    {
     "name": "stdout",
     "output_type": "stream",
     "text": [
      "tf.Tensor(\n",
      "[[ 1.119729    0.84350216 -0.35043234 -0.5771035   0.7453682 ]\n",
      " [ 0.1398375  -0.03148724  0.18080221  0.20548262 -1.2209712 ]\n",
      " [ 0.2506688  -0.10894711  0.09617411 -0.46999386  1.3716466 ]\n",
      " [-0.98039514 -1.0028356   0.81693655 -0.54002124  0.8859946 ]\n",
      " [-0.3254515  -2.7461884   1.6782415   0.49033123  0.26678246]\n",
      " [-1.0642333  -0.6790227   0.76415354  0.01838655  0.925158  ]\n",
      " [-1.8343958  -0.04239063  0.9400056  -1.2537534   0.82207084]\n",
      " [ 1.1176574   1.7042673  -0.2567036  -0.5527641  -0.0339091 ]], shape=(8, 5), dtype=float32)\n",
      "(8, 5) (5,) (1,)\n"
     ]
    }
   ],
   "source": [
    "X= tf.random.normal(mean=0, stddev=1, shape=(N, n_feature)) \n",
    "#normal distribution 으로 평균은 0, standard deviation = 1, (8x5)형태의 데이터를 만듦\n",
    "print(X)\n",
    "print(X.shape, t_weights.shape, t_bias.shape)"
   ]
  },
  {
   "cell_type": "code",
   "execution_count": 10,
   "id": "a965287d-2a2b-4f17-ba1f-03a95329f5b7",
   "metadata": {},
   "outputs": [
    {
     "name": "stdout",
     "output_type": "stream",
     "text": [
      "tf.Tensor(\n",
      "[[11.119729  11.687004   8.948703   7.691586  13.726841 ]\n",
      " [10.139837   9.937025  10.542407  10.821931   3.895144 ]\n",
      " [10.250669   9.782105  10.288523   8.120025  16.858234 ]\n",
      " [ 9.019605   7.9943285 12.4508095  7.8399153 14.429974 ]\n",
      " [ 9.674548   4.507623  15.034724  11.961325  11.333912 ]\n",
      " [ 8.935766   8.641954  12.29246   10.073546  14.62579  ]\n",
      " [ 8.165605   9.915218  12.820017   4.9849863 14.110354 ]\n",
      " [11.117658  13.408535   9.229889   7.7889433  9.830455 ]], shape=(8, 5), dtype=float32)\n",
      "(8, 5)\n"
     ]
    }
   ],
   "source": [
    "Y= t_weights*X+t_bias\n",
    "print(Y)\n",
    "print(Y.shape)"
   ]
  },
  {
   "cell_type": "markdown",
   "id": "e69d0fd5-1e62-4bed-acf5-8824a7f425dd",
   "metadata": {},
   "source": [
    "x값이 8x5인데 weight를 곱하면 축에 있는 값들이 broad casting으로 전체적으로 곱해짐"
   ]
  },
  {
   "cell_type": "code",
   "execution_count": 12,
   "id": "c07b20cd-36c3-41eb-9036-9078011f0d06",
   "metadata": {},
   "outputs": [
    {
     "name": "stdout",
     "output_type": "stream",
     "text": [
      "tf.Tensor(\n",
      "[13.173863   5.3363442 15.299555  11.734632  12.512134  14.569518\n",
      "  9.996181  11.375479 ], shape=(8,), dtype=float32)\n",
      "(8,)\n"
     ]
    }
   ],
   "source": [
    "Y= tf.reduce_sum(t_weights*X,axis=1) +t_bias\n",
    "print(Y)\n",
    "print(Y.shape)\n"
   ]
  },
  {
   "cell_type": "raw",
   "id": "ab49ed8d-c09e-4dac-b699-f4540e23038a",
   "metadata": {},
   "source": [
    "tf.reduce_sum(\"function\",axis=0(row direction) or 1(column direction))\n",
    "곱셈형식으로 이렇게 써줘야 Linear Regression을 위한 계산형태가 나온다"
   ]
  },
  {
   "cell_type": "code",
   "execution_count": 15,
   "id": "4b0e4c6e-5380-419c-96f3-81ae882f935e",
   "metadata": {},
   "outputs": [
    {
     "name": "stdout",
     "output_type": "stream",
     "text": [
      "X(shape): (8, 5) | X(dtype): <dtype: 'float32'>\n",
      "X.numpy \n",
      " [[ 1.119729    0.84350216 -0.35043234 -0.5771035   0.7453682 ]\n",
      " [ 0.1398375  -0.03148724  0.18080221  0.20548262 -1.2209712 ]\n",
      " [ 0.2506688  -0.10894711  0.09617411 -0.46999386  1.3716466 ]\n",
      " [-0.98039514 -1.0028356   0.81693655 -0.54002124  0.8859946 ]\n",
      " [-0.3254515  -2.7461884   1.6782415   0.49033123  0.26678246]\n",
      " [-1.0642333  -0.6790227   0.76415354  0.01838655  0.925158  ]\n",
      " [-1.8343958  -0.04239063  0.9400056  -1.2537534   0.82207084]\n",
      " [ 1.1176574   1.7042673  -0.2567036  -0.5527641  -0.0339091 ]]\n",
      "Y(shape): (8,) | Y(dtype): <dtype: 'float32'>\n",
      "Y.numpy \n",
      " [13.173863   5.3363442 15.299555  11.734632  12.512134  14.569518\n",
      "  9.996181  11.375479 ]\n"
     ]
    }
   ],
   "source": [
    "#Result\n",
    "print(f\"X(shape): {X.shape} | X(dtype): {X.dtype}\")\n",
    "print(f\"X.numpy \\n {X.numpy()}\")\n",
    "\n",
    "print(f\"Y(shape): {Y.shape} | Y(dtype): {Y.dtype}\")\n",
    "print(f\"Y.numpy \\n {Y.numpy()}\")"
   ]
  }
 ],
 "metadata": {
  "kernelspec": {
   "display_name": "Python 3 (ipykernel)",
   "language": "python",
   "name": "python3"
  },
  "language_info": {
   "codemirror_mode": {
    "name": "ipython",
    "version": 3
   },
   "file_extension": ".py",
   "mimetype": "text/x-python",
   "name": "python",
   "nbconvert_exporter": "python",
   "pygments_lexer": "ipython3",
   "version": "3.9.12"
  }
 },
 "nbformat": 4,
 "nbformat_minor": 5
}
